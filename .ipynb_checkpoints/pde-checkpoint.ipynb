{
 "cells": [
  {
   "cell_type": "code",
   "execution_count": 9,
   "id": "66ebab96",
   "metadata": {},
   "outputs": [
    {
     "data": {
      "text/latex": [
       "$\\displaystyle t y{\\left(x \\right)} + \\frac{d^{2}}{d x^{2}} y{\\left(x \\right)} = 0$"
      ],
      "text/plain": [
       "Eq(t*y(x) + Derivative(y(x), (x, 2)), 0)"
      ]
     },
     "execution_count": 9,
     "metadata": {},
     "output_type": "execute_result"
    }
   ],
   "source": [
    "from sympy import *\n",
    "x,L,t,n = symbols('x L t n') \n",
    "y = Function('y')(x);\n",
    "DE = Eq(y.diff(x,x) + t*y,0); DE"
   ]
  },
  {
   "cell_type": "code",
   "execution_count": 11,
   "id": "0d1d9243",
   "metadata": {},
   "outputs": [
    {
     "data": {
      "text/latex": [
       "$\\displaystyle y{\\left(x \\right)} = 0$"
      ],
      "text/plain": [
       "Eq(y(x), 0)"
      ]
     },
     "execution_count": 11,
     "metadata": {},
     "output_type": "execute_result"
    }
   ],
   "source": [
    "y = Function('y')\n",
    "dsolve(DE,y(x),ics = {y(0):0,y(L):0})\n"
   ]
  },
  {
   "cell_type": "code",
   "execution_count": 14,
   "id": "d01bcfe1",
   "metadata": {},
   "outputs": [
    {
     "data": {
      "text/latex": [
       "$\\displaystyle \\frac{d^{2}}{d x^{2}} y{\\left(x \\right)} + \\frac{\\pi^{2} y{\\left(x \\right)}}{L^{2}} = 0$"
      ],
      "text/plain": [
       "Eq(Derivative(y(x), (x, 2)) + pi**2*y(x)/L**2, 0)"
      ]
     },
     "execution_count": 14,
     "metadata": {},
     "output_type": "execute_result"
    }
   ],
   "source": [
    "y = Function('y')(x)\n",
    "t = (pi/L)**2\n",
    "DE = Eq(y.diff(x,x) + t*y,0); DE"
   ]
  },
  {
   "cell_type": "code",
   "execution_count": 16,
   "id": "af09cc97",
   "metadata": {},
   "outputs": [
    {
     "data": {
      "text/latex": [
       "$\\displaystyle y{\\left(x \\right)} = C_{2} e^{\\frac{i \\pi x}{L}} - C_{2} e^{- \\frac{i \\pi x}{L}}$"
      ],
      "text/plain": [
       "Eq(y(x), C2*exp(I*pi*x/L) - C2*exp(-I*pi*x/L))"
      ]
     },
     "execution_count": 16,
     "metadata": {},
     "output_type": "execute_result"
    }
   ],
   "source": [
    "y = Function('y')\n",
    "dsolve(DE,y(x),ics = {y(0):0,y(L):0})"
   ]
  },
  {
   "cell_type": "code",
   "execution_count": 20,
   "id": "bbb346ef",
   "metadata": {},
   "outputs": [
    {
     "data": {
      "text/latex": [
       "$\\displaystyle y{\\left(x \\right)} = C_{2} e^{\\frac{i \\pi x}{L}} + C_{2} e^{- \\frac{i \\pi x}{L}}$"
      ],
      "text/plain": [
       "Eq(y(x), C2*exp(I*pi*x/L) + C2*exp(-I*pi*x/L))"
      ]
     },
     "execution_count": 20,
     "metadata": {},
     "output_type": "execute_result"
    }
   ],
   "source": [
    "y = Function('y')(x)\n",
    "t = (pi/L)**2\n",
    "DE = Eq(y.diff(x,x) + t*y,0);\n",
    "y = Function('y')\n",
    "dsolve(DE,y(x),ics = {y(x).diff(x).subs(x,0):0,y(x).diff(x).subs(x,L):0})\n",
    "\n"
   ]
  },
  {
   "cell_type": "code",
   "execution_count": null,
   "id": "e54946b4",
   "metadata": {},
   "outputs": [],
   "source": []
  },
  {
   "cell_type": "code",
   "execution_count": null,
   "id": "7c57ccd1",
   "metadata": {},
   "outputs": [],
   "source": []
  }
 ],
 "metadata": {
  "kernelspec": {
   "display_name": "Python 3 (ipykernel)",
   "language": "python",
   "name": "python3"
  },
  "language_info": {
   "codemirror_mode": {
    "name": "ipython",
    "version": 3
   },
   "file_extension": ".py",
   "mimetype": "text/x-python",
   "name": "python",
   "nbconvert_exporter": "python",
   "pygments_lexer": "ipython3",
   "version": "3.11.5"
  }
 },
 "nbformat": 4,
 "nbformat_minor": 5
}
